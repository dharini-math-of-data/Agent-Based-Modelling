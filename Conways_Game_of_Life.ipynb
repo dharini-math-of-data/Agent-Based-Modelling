{
 "cells": [
  {
   "cell_type": "code",
   "execution_count": 1,
   "metadata": {},
   "outputs": [
    {
     "name": "stdout",
     "output_type": "stream",
     "text": [
      "^C\n"
     ]
    }
   ],
   "source": [
    "!conda install -c conda-forge ffmpeg"
   ]
  },
  {
   "cell_type": "code",
   "execution_count": 1,
   "metadata": {},
   "outputs": [],
   "source": [
    "import math\n",
    "import random\n",
    "import numpy as np\n",
    "import matplotlib.pyplot as plt\n",
    "import matplotlib.colors\n",
    "import imageio\n",
    "import matplotlib.pyplot as plt\n",
    "from matplotlib import animation\n",
    "from matplotlib.animation import ArtistAnimation\n",
    "from IPython.display import HTML\n",
    "import webbrowser\n",
    "\"\"\"\n",
    "TO DO:\n",
    "* Comments\n",
    "* Check if read config is working\n",
    "* \n",
    "\"\"\""
   ]
  },
  {
   "cell_type": "code",
   "execution_count": 2,
   "metadata": {},
   "outputs": [],
   "source": [
    "def readConfig(filename = \"config.txt\", L = 50):\n",
    "    f = open(filename, \"r\")\n",
    "    fl = f.readlines()\n",
    "    b = []\n",
    "    for x in fl:\n",
    "            b.append([i for i in x.rstrip()])  \n",
    "            a = np.array(b)\n",
    "    if(max(a.shape) > L):\n",
    "        print(\"configuration too big\")\n",
    "    else:\n",
    "        b = np.zeros((L,L))\n",
    "        r = a.shape[0]\n",
    "        c = a.shape[1]\n",
    "        k = (L - r) // 2\n",
    "        j = (L - c) // 2\n",
    "        b[k : k + r, j : j + c] = a       \n",
    "    return b"
   ]
  },
  {
   "cell_type": "code",
   "execution_count": 3,
   "metadata": {},
   "outputs": [],
   "source": [
    "def evolve(grid):\n",
    "    L = len(grid)\n",
    "    for i in range(L):\n",
    "        for j in range(L):\n",
    "            up_left = grid[max(i - 1, 0), max(j - 1, 0)]\n",
    "            left = grid[i, max(j - 1, 0)]\n",
    "            down_left = grid[min(i + 1, L - 1), max(j - 1, 0)]\n",
    "            up = grid[max(i - 1, 0), j]\n",
    "            down = grid[min(i + 1, L - 1), j]\n",
    "            up_right = grid[max(i - 1, 0),min(j + 1, L - 1)]\n",
    "            right = grid[i, min(j + 1, L - 1)]\n",
    "            down_right = grid[min(i + 1, L - 1), min(j + 1, L - 1)]      \n",
    "            alive_neighbors = up_left + left + down_left + up + down + up_right + right + down_right\n",
    "            if((alive_neighbors < 2 or alive_neighbors > 3) and grid[i, j] == 1):\n",
    "                grid[i, j] = 0\n",
    "            elif(alive_neighbors == 3 and grid[i, j] == 0):\n",
    "                grid[i, j] = 1\n",
    "    return grid"
   ]
  },
  {
   "cell_type": "code",
   "execution_count": 4,
   "metadata": {},
   "outputs": [],
   "source": [
    "def generateConfig(n, p):\n",
    "    grid = np.random.random((n, n))\n",
    "    grid[grid <= p] = 1\n",
    "    grid[grid != 1] = 0\n",
    "    grid = grid.astype('int')\n",
    "    np.savetxt(\"random.txt\", grid, delimiter=\"\",newline='\\n')  "
   ]
  },
  {
   "cell_type": "code",
   "execution_count": 5,
   "metadata": {},
   "outputs": [
    {
     "name": "stderr",
     "output_type": "stream",
     "text": [
      "C:\\ProgramData\\Anaconda3\\lib\\site-packages\\matplotlib\\animation.py:1218: UserWarning: MovieWriter ffmpeg unavailable\n",
      "  warnings.warn(\"MovieWriter %s unavailable\" % writer)\n"
     ]
    }
   ],
   "source": [
    "if __name__=='__main__':\n",
    "    ims = []\n",
    "    L = 50\n",
    "    grid = np.zeros((L,L))    \n",
    "    #generateConfig(20,0.4)\n",
    "    #grid = readConfig(\"random.txt\")\n",
    "    grid = readConfig(\"config.txt\")\n",
    "    c = 0\n",
    "    fig = plt.figure(figsize=(10, 10))\n",
    "    while(c <= 100):\n",
    "        new_grid = evolve(grid)\n",
    "        if(np.array_equal(new_grid, grid)):\n",
    "            im = plt.imshow(new_grid, animated = True)\n",
    "            ims.append([im])\n",
    "            grid = new_grid\n",
    "            c = c + 1\n",
    "        else:\n",
    "            break\n",
    "\n",
    "    ani = animation.ArtistAnimation(fig, ims, interval = 50, blit = True, repeat_delay = 100)\n",
    "    plt.close()\n",
    "    url = \"Game of Life.html\"\n",
    "    ani.save(url)\n",
    "    new = 2 # open in a new tab, if possible\n",
    "    webbrowser.open(url,new=new)\n",
    "\n"
   ]
  }
 ],
 "metadata": {
  "kernelspec": {
   "display_name": "Python 3 (ipykernel)",
   "language": "python",
   "name": "python3"
  },
  "language_info": {
   "codemirror_mode": {
    "name": "ipython",
    "version": 3
   },
   "file_extension": ".py",
   "mimetype": "text/x-python",
   "name": "python",
   "nbconvert_exporter": "python",
   "pygments_lexer": "ipython3",
   "version": "3.9.7"
  }
 },
 "nbformat": 4,
 "nbformat_minor": 2
}
