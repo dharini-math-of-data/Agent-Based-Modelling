{
 "cells": [
  {
   "cell_type": "code",
   "execution_count": 1,
   "metadata": {},
   "outputs": [
    {
     "data": {
      "text/plain": [
       "'\\nSchillings segregation:\\n=======================\\nInput: N, Nb, jt, mt=8,24,48,80,120\\nLattice size: 100\\n1: b 0: r\\n\\n'"
      ]
     },
     "execution_count": 1,
     "metadata": {},
     "output_type": "execute_result"
    }
   ],
   "source": [
    "import math\n",
    "import random as rd\n",
    "import numpy as np\n",
    "import matplotlib.pyplot as plt\n",
    "import matplotlib.colors\n",
    "from matplotlib import animation\n",
    "from matplotlib.animation import ArtistAnimation\n",
    "from IPython.display import HTML\n",
    "import webbrowser\n",
    "from scipy import interpolate\n",
    "from scipy.interpolate import interp1d\n",
    "\n",
    "\"\"\"\n",
    "Schillings segregation:\n",
    "=======================\n",
    "Input: N, Nb, jt, mt=8,24,48,80,120\n",
    "Lattice size: 100\n",
    "1: b 0: r\n",
    "\n",
    "\"\"\""
   ]
  },
  {
   "cell_type": "code",
   "execution_count": 7,
   "metadata": {},
   "outputs": [
    {
     "ename": "IndexError",
     "evalue": "index 6362 is out of bounds for axis 0 with size 5001",
     "output_type": "error",
     "traceback": [
      "\u001b[1;31m---------------------------------------------------------------------------\u001b[0m",
      "\u001b[1;31mIndexError\u001b[0m                                Traceback (most recent call last)",
      "\u001b[1;32m~\\AppData\\Local\\Temp/ipykernel_22628/789922060.py\u001b[0m in \u001b[0;36m<module>\u001b[1;34m\u001b[0m\n\u001b[0;32m     24\u001b[0m     \u001b[1;32mif\u001b[0m\u001b[1;33m(\u001b[0m\u001b[0mh\u001b[0m \u001b[1;33m<\u001b[0m \u001b[0mjb\u001b[0m\u001b[1;33m)\u001b[0m\u001b[1;33m:\u001b[0m\u001b[1;33m\u001b[0m\u001b[1;33m\u001b[0m\u001b[0m\n\u001b[0;32m     25\u001b[0m         \u001b[0moccupied\u001b[0m\u001b[1;33m.\u001b[0m\u001b[0mappend\u001b[0m\u001b[1;33m(\u001b[0m\u001b[0mnp\u001b[0m\u001b[1;33m.\u001b[0m\u001b[0mrandom\u001b[0m\u001b[1;33m.\u001b[0m\u001b[0mchoice\u001b[0m\u001b[1;33m(\u001b[0m\u001b[0munoccupied\u001b[0m\u001b[1;33m)\u001b[0m\u001b[1;33m)\u001b[0m\u001b[1;33m\u001b[0m\u001b[1;33m\u001b[0m\u001b[0m\n\u001b[1;32m---> 26\u001b[1;33m         \u001b[0mnp\u001b[0m\u001b[1;33m.\u001b[0m\u001b[0mdelete\u001b[0m\u001b[1;33m(\u001b[0m\u001b[0moccupied\u001b[0m\u001b[1;33m,\u001b[0m\u001b[0mb\u001b[0m\u001b[1;33m)\u001b[0m\u001b[1;33m\u001b[0m\u001b[1;33m\u001b[0m\u001b[0m\n\u001b[0m\u001b[0;32m     27\u001b[0m         \u001b[0munoccupied\u001b[0m \u001b[1;33m=\u001b[0m \u001b[1;33m[\u001b[0m\u001b[0mx\u001b[0m \u001b[1;32mfor\u001b[0m \u001b[0mx\u001b[0m \u001b[1;32min\u001b[0m \u001b[0mrange\u001b[0m\u001b[1;33m(\u001b[0m\u001b[0mN\u001b[0m\u001b[1;33m)\u001b[0m \u001b[1;32mif\u001b[0m \u001b[0mx\u001b[0m \u001b[1;32mnot\u001b[0m \u001b[1;32min\u001b[0m \u001b[0moccupied\u001b[0m\u001b[1;33m]\u001b[0m\u001b[1;33m\u001b[0m\u001b[1;33m\u001b[0m\u001b[0m\n\u001b[0;32m     28\u001b[0m \u001b[1;32mfor\u001b[0m \u001b[0mr\u001b[0m \u001b[1;32min\u001b[0m \u001b[0mt_r\u001b[0m\u001b[1;33m:\u001b[0m\u001b[1;33m\u001b[0m\u001b[1;33m\u001b[0m\u001b[0m\n",
      "\u001b[1;32m<__array_function__ internals>\u001b[0m in \u001b[0;36mdelete\u001b[1;34m(*args, **kwargs)\u001b[0m\n",
      "\u001b[1;32m~\\anaconda3\\lib\\site-packages\\numpy\\lib\\function_base.py\u001b[0m in \u001b[0;36mdelete\u001b[1;34m(arr, obj, axis)\u001b[0m\n\u001b[0;32m   4449\u001b[0m         \u001b[1;31m# optimization for a single value\u001b[0m\u001b[1;33m\u001b[0m\u001b[1;33m\u001b[0m\u001b[0m\n\u001b[0;32m   4450\u001b[0m         \u001b[1;32mif\u001b[0m \u001b[1;33m(\u001b[0m\u001b[0mobj\u001b[0m \u001b[1;33m<\u001b[0m \u001b[1;33m-\u001b[0m\u001b[0mN\u001b[0m \u001b[1;32mor\u001b[0m \u001b[0mobj\u001b[0m \u001b[1;33m>=\u001b[0m \u001b[0mN\u001b[0m\u001b[1;33m)\u001b[0m\u001b[1;33m:\u001b[0m\u001b[1;33m\u001b[0m\u001b[1;33m\u001b[0m\u001b[0m\n\u001b[1;32m-> 4451\u001b[1;33m             raise IndexError(\n\u001b[0m\u001b[0;32m   4452\u001b[0m                 \u001b[1;34m\"index %i is out of bounds for axis %i with \"\u001b[0m\u001b[1;33m\u001b[0m\u001b[1;33m\u001b[0m\u001b[0m\n\u001b[0;32m   4453\u001b[0m                 \"size %i\" % (obj, axis, N))\n",
      "\u001b[1;31mIndexError\u001b[0m: index 6362 is out of bounds for axis 0 with size 5001"
     ]
    }
   ],
   "source": [
    "# Creating Population\n",
    "N = 5000\n",
    "Nb = 2765\n",
    "Nr = N - Nb\n",
    "L = 100\n",
    "mb = 8\n",
    "mr = 8\n",
    "jb = 3\n",
    "jr = 1\n",
    "\n",
    "# Occupied cells\n",
    "occupied = list(np.random.randint(0,L*L,N))\n",
    "unoccupied = [x for x in range(N) if x not in occupied]\n",
    "t_b = occupied[0:Nb]  \n",
    "t_r = occupied[Nb:N]\n",
    "\n",
    "# Simple Segregation\n",
    "i = 1\n",
    "for b in t_b:\n",
    "    h = 0\n",
    "    for k in [b-L,b+L,b+L-i,b+L+i,b-L-i,b-L+i,b-i,b+i]:\n",
    "        if k in t_b:\n",
    "            h = h+1 \n",
    "    if(h < jb):\n",
    "        occupied.append(np.random.choice(unoccupied))\n",
    "        np.delete(occupied,b)\n",
    "        unoccupied = [x for x in range(N) if x not in occupied]\n",
    "for r in t_r:\n",
    "    h = 0\n",
    "    for k in [r-L,r+L,r+L-i,r+L+i,r-L-i,r-L+i,r-i,r+i]:\n",
    "        if k in t_r:\n",
    "            h = h+1 \n",
    "    if(h < jr):\n",
    "        occupied.append(np.random.choice(unoccupied))\n",
    "        np.delete(occupied,r)\n",
    "        unoccupied = [x for x in range(N) if x not in occupied]    "
   ]
  },
  {
   "cell_type": "code",
   "execution_count": null,
   "metadata": {},
   "outputs": [],
   "source": [
    "def relocate(curr_loc):\n",
    "    # Returns location for relocation.\n",
    "    typ = get_type\n",
    "    new_loc = curr_loc\n",
    "    np.random.shuffle(unoccupied)\n",
    "    for loc in unoccupied:\n",
    "        if loc!=curr_loc:\n",
    "            if happy(loc, typ):\n",
    "                new_loc = loc\n",
    "    return new_loc     "
   ]
  },
  {
   "cell_type": "code",
   "execution_count": null,
   "metadata": {},
   "outputs": [],
   "source": [
    "def happy(curr_loc,typ):\n",
    "    # Instead of hard coding type as t_r and t_b, let's make list of lists where list is locations of certain type. \n",
    "    # we can color code the type in the end\n",
    "    # typ number will the index of the type in \n",
    "    for agent in neighbours:\n",
    "        if agent in type_list[typ]:\n",
    "            same_count = same_count+1\n",
    "    if same_count < jt[typ]: #jt == global\n",
    "        return 0\n",
    "    else:\n",
    "        return 1"
   ]
  }
 ],
 "metadata": {
  "kernelspec": {
   "display_name": "Python 3 (ipykernel)",
   "language": "python",
   "name": "python3"
  },
  "language_info": {
   "codemirror_mode": {
    "name": "ipython",
    "version": 3
   },
   "file_extension": ".py",
   "mimetype": "text/x-python",
   "name": "python",
   "nbconvert_exporter": "python",
   "pygments_lexer": "ipython3",
   "version": "3.9.7"
  }
 },
 "nbformat": 4,
 "nbformat_minor": 2
}
